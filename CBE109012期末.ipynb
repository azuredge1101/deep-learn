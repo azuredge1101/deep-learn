{
  "cells": [
    {
      "cell_type": "markdown",
      "metadata": {
        "id": "view-in-github",
        "colab_type": "text"
      },
      "source": [
        "<a href=\"https://colab.research.google.com/github/azuredge1101/deep-learn/blob/main/CBE109012%E6%9C%9F%E6%9C%AB.ipynb\" target=\"_parent\"><img src=\"https://colab.research.google.com/assets/colab-badge.svg\" alt=\"Open In Colab\"/></a>"
      ]
    },
    {
      "cell_type": "code",
      "source": [
        "import numpy as np\n",
        "import pandas as pd\n",
        "from pathlib import Path\n",
        "import os.path\n",
        "\n",
        "from sklearn.model_selection import train_test_split\n",
        "\n",
        "import tensorflow as tf"
      ],
      "metadata": {
        "id": "hvcXFvcjvnD7"
      },
      "execution_count": 1,
      "outputs": []
    },
    {
      "cell_type": "code",
      "source": [
        "from google.colab import drive\n",
        "drive.mount('/content/drive')"
      ],
      "metadata": {
        "colab": {
          "base_uri": "https://localhost:8080/"
        },
        "id": "Ui2bQJ7AWjmD",
        "outputId": "87ea4541-0a88-4b20-be5f-2c88c467e5cd"
      },
      "execution_count": 4,
      "outputs": [
        {
          "output_type": "stream",
          "name": "stdout",
          "text": [
            "Drive already mounted at /content/drive; to attempt to forcibly remount, call drive.mount(\"/content/drive\", force_remount=True).\n"
          ]
        }
      ]
    },
    {
      "cell_type": "code",
      "source": [
        "image_dir = Path('/content/drive/MyDrive/archive/Fish_Dataset/Fish_Dataset')"
      ],
      "metadata": {
        "id": "BqXdtAsavn36"
      },
      "execution_count": null,
      "outputs": []
    },
    {
      "cell_type": "markdown",
      "source": [
        "# **創造一個資料夾**"
      ],
      "metadata": {
        "id": "TAPRnJBTxIyp"
      }
    },
    {
      "cell_type": "code",
      "source": [
        "filepaths = list(image_dir.glob(r'**/*.png'))\n",
        "labels = list(map(lambda x: os.path.split(os.path.split(x)[0])[1], filepaths))\n",
        "\n",
        "filepaths = pd.Series(filepaths, name='Filepath').astype(str)\n",
        "labels = pd.Series(labels, name='Label')\n",
        "\n",
        "# Concatenate filepaths and labels\n",
        "image_df = pd.concat([filepaths, labels], axis=1)\n",
        "\n",
        "# Drop GT images\n",
        "image_df['Label'] = image_df['Label'].apply(lambda x: np.NaN if x[-2:] == 'GT' else x)\n",
        "image_df = image_df.dropna(axis=0)\n",
        "\n",
        "# Sample 200 images from each class\n",
        "samples = []\n",
        "\n",
        "for category in image_df['Label'].unique():\n",
        "    category_slice = image_df.query(\"Label == @category\")\n",
        "    samples.append(category_slice.sample(200, random_state=1))\n",
        "\n",
        "image_df = pd.concat(samples, axis=0).sample(frac=1.0, random_state=1).reset_index(drop=True)"
      ],
      "metadata": {
        "id": "FtS20sumvtvy"
      },
      "execution_count": null,
      "outputs": []
    },
    {
      "cell_type": "code",
      "source": [
        "image_df"
      ],
      "metadata": {
        "colab": {
          "base_uri": "https://localhost:8080/",
          "height": 424
        },
        "id": "Jz7zzju0L1lp",
        "outputId": "88b07bb8-4631-42c0-bf80-0a2ab3ae78d5"
      },
      "execution_count": null,
      "outputs": [
        {
          "output_type": "execute_result",
          "data": {
            "text/plain": [
              "                                              Filepath          Label\n",
              "0    /content/drive/MyDrive/_LABELED-FISHES-IN-THE-...  Positive_fish\n",
              "1    /content/drive/MyDrive/_LABELED-FISHES-IN-THE-...  Positive_fish\n",
              "2    /content/drive/MyDrive/_LABELED-FISHES-IN-THE-...  Positive_fish\n",
              "3    /content/drive/MyDrive/_LABELED-FISHES-IN-THE-...  Positive_fish\n",
              "4    /content/drive/MyDrive/_LABELED-FISHES-IN-THE-...  Positive_fish\n",
              "..                                                 ...            ...\n",
              "195  /content/drive/MyDrive/_LABELED-FISHES-IN-THE-...  Positive_fish\n",
              "196  /content/drive/MyDrive/_LABELED-FISHES-IN-THE-...  Positive_fish\n",
              "197  /content/drive/MyDrive/_LABELED-FISHES-IN-THE-...  Positive_fish\n",
              "198  /content/drive/MyDrive/_LABELED-FISHES-IN-THE-...  Positive_fish\n",
              "199  /content/drive/MyDrive/_LABELED-FISHES-IN-THE-...  Positive_fish\n",
              "\n",
              "[200 rows x 2 columns]"
            ],
            "text/html": [
              "\n",
              "  <div id=\"df-ff46490f-770c-44bb-b5f6-59171a1d4836\">\n",
              "    <div class=\"colab-df-container\">\n",
              "      <div>\n",
              "<style scoped>\n",
              "    .dataframe tbody tr th:only-of-type {\n",
              "        vertical-align: middle;\n",
              "    }\n",
              "\n",
              "    .dataframe tbody tr th {\n",
              "        vertical-align: top;\n",
              "    }\n",
              "\n",
              "    .dataframe thead th {\n",
              "        text-align: right;\n",
              "    }\n",
              "</style>\n",
              "<table border=\"1\" class=\"dataframe\">\n",
              "  <thead>\n",
              "    <tr style=\"text-align: right;\">\n",
              "      <th></th>\n",
              "      <th>Filepath</th>\n",
              "      <th>Label</th>\n",
              "    </tr>\n",
              "  </thead>\n",
              "  <tbody>\n",
              "    <tr>\n",
              "      <th>0</th>\n",
              "      <td>/content/drive/MyDrive/_LABELED-FISHES-IN-THE-...</td>\n",
              "      <td>Positive_fish</td>\n",
              "    </tr>\n",
              "    <tr>\n",
              "      <th>1</th>\n",
              "      <td>/content/drive/MyDrive/_LABELED-FISHES-IN-THE-...</td>\n",
              "      <td>Positive_fish</td>\n",
              "    </tr>\n",
              "    <tr>\n",
              "      <th>2</th>\n",
              "      <td>/content/drive/MyDrive/_LABELED-FISHES-IN-THE-...</td>\n",
              "      <td>Positive_fish</td>\n",
              "    </tr>\n",
              "    <tr>\n",
              "      <th>3</th>\n",
              "      <td>/content/drive/MyDrive/_LABELED-FISHES-IN-THE-...</td>\n",
              "      <td>Positive_fish</td>\n",
              "    </tr>\n",
              "    <tr>\n",
              "      <th>4</th>\n",
              "      <td>/content/drive/MyDrive/_LABELED-FISHES-IN-THE-...</td>\n",
              "      <td>Positive_fish</td>\n",
              "    </tr>\n",
              "    <tr>\n",
              "      <th>...</th>\n",
              "      <td>...</td>\n",
              "      <td>...</td>\n",
              "    </tr>\n",
              "    <tr>\n",
              "      <th>195</th>\n",
              "      <td>/content/drive/MyDrive/_LABELED-FISHES-IN-THE-...</td>\n",
              "      <td>Positive_fish</td>\n",
              "    </tr>\n",
              "    <tr>\n",
              "      <th>196</th>\n",
              "      <td>/content/drive/MyDrive/_LABELED-FISHES-IN-THE-...</td>\n",
              "      <td>Positive_fish</td>\n",
              "    </tr>\n",
              "    <tr>\n",
              "      <th>197</th>\n",
              "      <td>/content/drive/MyDrive/_LABELED-FISHES-IN-THE-...</td>\n",
              "      <td>Positive_fish</td>\n",
              "    </tr>\n",
              "    <tr>\n",
              "      <th>198</th>\n",
              "      <td>/content/drive/MyDrive/_LABELED-FISHES-IN-THE-...</td>\n",
              "      <td>Positive_fish</td>\n",
              "    </tr>\n",
              "    <tr>\n",
              "      <th>199</th>\n",
              "      <td>/content/drive/MyDrive/_LABELED-FISHES-IN-THE-...</td>\n",
              "      <td>Positive_fish</td>\n",
              "    </tr>\n",
              "  </tbody>\n",
              "</table>\n",
              "<p>200 rows × 2 columns</p>\n",
              "</div>\n",
              "      <button class=\"colab-df-convert\" onclick=\"convertToInteractive('df-ff46490f-770c-44bb-b5f6-59171a1d4836')\"\n",
              "              title=\"Convert this dataframe to an interactive table.\"\n",
              "              style=\"display:none;\">\n",
              "        \n",
              "  <svg xmlns=\"http://www.w3.org/2000/svg\" height=\"24px\"viewBox=\"0 0 24 24\"\n",
              "       width=\"24px\">\n",
              "    <path d=\"M0 0h24v24H0V0z\" fill=\"none\"/>\n",
              "    <path d=\"M18.56 5.44l.94 2.06.94-2.06 2.06-.94-2.06-.94-.94-2.06-.94 2.06-2.06.94zm-11 1L8.5 8.5l.94-2.06 2.06-.94-2.06-.94L8.5 2.5l-.94 2.06-2.06.94zm10 10l.94 2.06.94-2.06 2.06-.94-2.06-.94-.94-2.06-.94 2.06-2.06.94z\"/><path d=\"M17.41 7.96l-1.37-1.37c-.4-.4-.92-.59-1.43-.59-.52 0-1.04.2-1.43.59L10.3 9.45l-7.72 7.72c-.78.78-.78 2.05 0 2.83L4 21.41c.39.39.9.59 1.41.59.51 0 1.02-.2 1.41-.59l7.78-7.78 2.81-2.81c.8-.78.8-2.07 0-2.86zM5.41 20L4 18.59l7.72-7.72 1.47 1.35L5.41 20z\"/>\n",
              "  </svg>\n",
              "      </button>\n",
              "      \n",
              "  <style>\n",
              "    .colab-df-container {\n",
              "      display:flex;\n",
              "      flex-wrap:wrap;\n",
              "      gap: 12px;\n",
              "    }\n",
              "\n",
              "    .colab-df-convert {\n",
              "      background-color: #E8F0FE;\n",
              "      border: none;\n",
              "      border-radius: 50%;\n",
              "      cursor: pointer;\n",
              "      display: none;\n",
              "      fill: #1967D2;\n",
              "      height: 32px;\n",
              "      padding: 0 0 0 0;\n",
              "      width: 32px;\n",
              "    }\n",
              "\n",
              "    .colab-df-convert:hover {\n",
              "      background-color: #E2EBFA;\n",
              "      box-shadow: 0px 1px 2px rgba(60, 64, 67, 0.3), 0px 1px 3px 1px rgba(60, 64, 67, 0.15);\n",
              "      fill: #174EA6;\n",
              "    }\n",
              "\n",
              "    [theme=dark] .colab-df-convert {\n",
              "      background-color: #3B4455;\n",
              "      fill: #D2E3FC;\n",
              "    }\n",
              "\n",
              "    [theme=dark] .colab-df-convert:hover {\n",
              "      background-color: #434B5C;\n",
              "      box-shadow: 0px 1px 3px 1px rgba(0, 0, 0, 0.15);\n",
              "      filter: drop-shadow(0px 1px 2px rgba(0, 0, 0, 0.3));\n",
              "      fill: #FFFFFF;\n",
              "    }\n",
              "  </style>\n",
              "\n",
              "      <script>\n",
              "        const buttonEl =\n",
              "          document.querySelector('#df-ff46490f-770c-44bb-b5f6-59171a1d4836 button.colab-df-convert');\n",
              "        buttonEl.style.display =\n",
              "          google.colab.kernel.accessAllowed ? 'block' : 'none';\n",
              "\n",
              "        async function convertToInteractive(key) {\n",
              "          const element = document.querySelector('#df-ff46490f-770c-44bb-b5f6-59171a1d4836');\n",
              "          const dataTable =\n",
              "            await google.colab.kernel.invokeFunction('convertToInteractive',\n",
              "                                                     [key], {});\n",
              "          if (!dataTable) return;\n",
              "\n",
              "          const docLinkHtml = 'Like what you see? Visit the ' +\n",
              "            '<a target=\"_blank\" href=https://colab.research.google.com/notebooks/data_table.ipynb>data table notebook</a>'\n",
              "            + ' to learn more about interactive tables.';\n",
              "          element.innerHTML = '';\n",
              "          dataTable['output_type'] = 'display_data';\n",
              "          await google.colab.output.renderOutput(dataTable, element);\n",
              "          const docLink = document.createElement('div');\n",
              "          docLink.innerHTML = docLinkHtml;\n",
              "          element.appendChild(docLink);\n",
              "        }\n",
              "      </script>\n",
              "    </div>\n",
              "  </div>\n",
              "  "
            ]
          },
          "metadata": {},
          "execution_count": 24
        }
      ]
    },
    {
      "cell_type": "code",
      "source": [
        "train_df, test_df = train_test_split(image_df, train_size = 0.7, shuffle = True, random_state = 1)"
      ],
      "metadata": {
        "id": "E-LLRN5wv2IS"
      },
      "execution_count": null,
      "outputs": []
    },
    {
      "cell_type": "markdown",
      "source": [
        "**載入圖片**"
      ],
      "metadata": {
        "id": "doGiTpOzw_WZ"
      }
    },
    {
      "cell_type": "code",
      "source": [
        "train_generator = tf.keras.preprocessing.image.ImageDataGenerator(preprocessing_function = tf.keras.applications.mobilenet_v2.preprocess_input,\n",
        "                                                                 validation_split = 0.2)\n",
        "test_generator = tf.keras.preprocessing.image.ImageDataGenerator(preprocessing_function = tf.keras.applications.mobilenet_v2.preprocess_input)"
      ],
      "metadata": {
        "id": "rS1edjwsv8-C"
      },
      "execution_count": null,
      "outputs": []
    },
    {
      "cell_type": "code",
      "source": [
        "train_images = train_generator.flow_from_dataframe(dataframe=train_df,\n",
        "    x_col='Filepath',\n",
        "    y_col='Label',\n",
        "    target_size=(224, 224),\n",
        "    color_mode='rgb',\n",
        "    class_mode='categorical',\n",
        "    batch_size=32,\n",
        "    shuffle=True,\n",
        "    seed=42,\n",
        "    subset='training')\n",
        "\n",
        "val_images = train_generator.flow_from_dataframe(dataframe = train_df,\n",
        "                                                x_col = 'Filepath',\n",
        "                                                y_col = 'Label',\n",
        "                                                target_size = (224, 224),\n",
        "                                                color_mode = 'rgb',\n",
        "                                                class_mode = 'categorical',\n",
        "                                                batch_size = 32,\n",
        "                                                shuffle = True,\n",
        "                                                seed = 42,\n",
        "                                                subset = 'validation')\n",
        "test_images =  test_generator.flow_from_dataframe(dataframe = test_df,\n",
        "                                                 x_col = 'Filepath',\n",
        "                                                 y_col = 'Label',\n",
        "                                                 target_size = (224,224),\n",
        "                                                 color_mode = 'rgb',\n",
        "                                                 class_mode = 'categorical',\n",
        "                                                 batch_size = 32,\n",
        "                                                 shuffle = False)"
      ],
      "metadata": {
        "colab": {
          "base_uri": "https://localhost:8080/"
        },
        "id": "w0AlpiMNv-8K",
        "outputId": "3b835abc-146a-4689-86a2-01dd87da8846"
      },
      "execution_count": null,
      "outputs": [
        {
          "output_type": "stream",
          "name": "stdout",
          "text": [
            "Found 1008 validated image filenames belonging to 9 classes.\n",
            "Found 252 validated image filenames belonging to 9 classes.\n",
            "Found 540 validated image filenames belonging to 9 classes.\n"
          ]
        }
      ]
    },
    {
      "cell_type": "markdown",
      "source": [
        "**載入模型**"
      ],
      "metadata": {
        "id": "iSC_3XGFwwK5"
      }
    },
    {
      "cell_type": "code",
      "source": [
        "pretrained_model = tf.keras.applications.MobileNetV2(\n",
        "input_shape = (224, 224, 3),\n",
        "include_top = False,\n",
        "weights = 'imagenet',\n",
        "pooling = 'avg')\n",
        "\n",
        "pretrained_model.trainable = False"
      ],
      "metadata": {
        "id": "E0H99ht7wDYi",
        "colab": {
          "base_uri": "https://localhost:8080/"
        },
        "outputId": "16eee56f-e789-4fb1-c1fb-5dc320975d44"
      },
      "execution_count": null,
      "outputs": [
        {
          "output_type": "stream",
          "name": "stdout",
          "text": [
            "Downloading data from https://storage.googleapis.com/tensorflow/keras-applications/mobilenet_v2/mobilenet_v2_weights_tf_dim_ordering_tf_kernels_1.0_224_no_top.h5\n",
            "9406464/9406464 [==============================] - 0s 0us/step\n"
          ]
        }
      ]
    },
    {
      "cell_type": "code",
      "source": [
        "inputs = pretrained_model.input\n",
        "\n",
        "x = tf.keras.layers.Dense(128, activation='relu')(pretrained_model.output)\n",
        "x = tf.keras.layers.Dense(128, activation='relu')(x)\n",
        "\n",
        "outputs = tf.keras.layers.Dense(9, activation = 'softmax')(x)\n",
        "\n",
        "\n",
        "model =tf.keras.Model(inputs=inputs, outputs = outputs)\n",
        "\n",
        "\n",
        "model.compile(optimizer = 'adam',\n",
        "             loss = 'categorical_crossentropy',\n",
        "             metrics = ['accuracy'])\n",
        "\n",
        "history = model.fit(train_images,\n",
        "                  validation_data = val_images,\n",
        "                  epochs = 10,\n",
        "                  callbacks = [\n",
        "                      tf.keras.callbacks.EarlyStopping(\n",
        "                      monitor = 'val_loss', \n",
        "                      patience = 3,\n",
        "                      restore_best_weights= True)\n",
        "                  ])"
      ],
      "metadata": {
        "colab": {
          "base_uri": "https://localhost:8080/"
        },
        "id": "TjVorklHwGMr",
        "outputId": "3bba4d00-5ab9-4bdf-b4e7-0945bdf2b250"
      },
      "execution_count": null,
      "outputs": [
        {
          "output_type": "stream",
          "name": "stdout",
          "text": [
            "Epoch 1/10\n",
            "32/32 [==============================] - 267s 8s/step - loss: 0.7953 - accuracy: 0.7798 - val_loss: 0.1188 - val_accuracy: 0.9603\n",
            "Epoch 2/10\n",
            "32/32 [==============================] - 49s 2s/step - loss: 0.0559 - accuracy: 0.9861 - val_loss: 0.0683 - val_accuracy: 0.9881\n",
            "Epoch 3/10\n",
            "32/32 [==============================] - 52s 2s/step - loss: 0.0217 - accuracy: 0.9980 - val_loss: 0.0589 - val_accuracy: 0.9802\n",
            "Epoch 4/10\n",
            "32/32 [==============================] - 49s 2s/step - loss: 0.0132 - accuracy: 0.9990 - val_loss: 0.0436 - val_accuracy: 0.9841\n",
            "Epoch 5/10\n",
            "32/32 [==============================] - 49s 2s/step - loss: 0.0054 - accuracy: 1.0000 - val_loss: 0.0411 - val_accuracy: 0.9881\n",
            "Epoch 6/10\n",
            "32/32 [==============================] - 49s 2s/step - loss: 0.0036 - accuracy: 1.0000 - val_loss: 0.0478 - val_accuracy: 0.9802\n",
            "Epoch 7/10\n",
            "32/32 [==============================] - 49s 2s/step - loss: 0.0027 - accuracy: 1.0000 - val_loss: 0.0297 - val_accuracy: 0.9841\n",
            "Epoch 8/10\n",
            "32/32 [==============================] - 49s 2s/step - loss: 0.0022 - accuracy: 1.0000 - val_loss: 0.0277 - val_accuracy: 0.9881\n",
            "Epoch 9/10\n",
            "32/32 [==============================] - 50s 2s/step - loss: 0.0016 - accuracy: 1.0000 - val_loss: 0.0331 - val_accuracy: 0.9841\n",
            "Epoch 10/10\n",
            "32/32 [==============================] - 49s 2s/step - loss: 0.0013 - accuracy: 1.0000 - val_loss: 0.0274 - val_accuracy: 0.9881\n"
          ]
        }
      ]
    },
    {
      "cell_type": "code",
      "source": [
        "results = model.evaluate(test_images, verbose = 0)\n",
        "\n",
        "print(\"Test Loss {:.5f}\".format(results[0]))\n",
        "print(\"Test Accuracy {:.2f}%\".format(results[1] * 100))"
      ],
      "metadata": {
        "colab": {
          "base_uri": "https://localhost:8080/"
        },
        "id": "Fmse2_5IwO1a",
        "outputId": "f973f1f7-3146-46bc-a5fd-58ffdd298157"
      },
      "execution_count": null,
      "outputs": [
        {
          "output_type": "stream",
          "name": "stdout",
          "text": [
            "Test Loss 0.01833\n",
            "Test Accuracy 99.63%\n"
          ]
        }
      ]
    }
  ],
  "metadata": {
    "kernelspec": {
      "display_name": "Python 3",
      "language": "python",
      "name": "python3"
    },
    "language_info": {
      "codemirror_mode": {
        "name": "ipython",
        "version": 3
      },
      "file_extension": ".py",
      "mimetype": "text/x-python",
      "name": "python",
      "nbconvert_exporter": "python",
      "pygments_lexer": "ipython3",
      "version": "3.6.4"
    },
    "colab": {
      "provenance": [],
      "include_colab_link": true
    }
  },
  "nbformat": 4,
  "nbformat_minor": 0
}